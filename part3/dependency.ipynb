{
 "cells": [
  {
   "cell_type": "code",
   "execution_count": 1,
   "metadata": {},
   "outputs": [],
   "source": [
    "// run this cell to prevent Jupyter from displaying the null output cell\n",
    "com.twosigma.beakerx.kernel.Kernel.showNullExecutionResult = false;"
   ]
  },
  {
   "cell_type": "markdown",
   "metadata": {},
   "source": [
    "<a id=\"notebook_id\"></a>\n",
    "# Dependency\n",
    "\n",
    "> A dependency exists between two elements if changes to the definition of one element (the supplier) may cause changes to the other (the client). With classes, dependencies exist for various reasons: One class sends a message to another; one class has another as part of its data; one class mentions another as a parameter to an operation. If a class changes its interface, any message sent to that class may no longer be valid.\n",
    "\n",
    "[Martin Fowler, 2003. UML Distilled: A Brief Guide to the Standard Object Modelling Language (3rd Edition)]\n",
    "\n",
    "We have already seen many examples of dependency relationships between classes:\n",
    "\n",
    "* every class `X` that overrides `toString` must return a reference to a `String` object. To create the `String` object the class `X` must use a constructor and methods of the `String` class; therefore, `X` has a dependency relationship with the `String` class.\n",
    "* every class `X` that overrides `equals` must accept a reference to an `Object` object in the `equals` method; therefore, `X` has a dependency relationship with the `Object` class. In fact, every class in Java has a much stronger relationship with the `Object` class (see the [Inheritance: Introduction](./inheritance_introduction.ipynb) notebook).\n",
    "* the `Point2` class has methods that accept `Vector2` references as arguments and return `Vector2` references as return values; therefore, `Point2` has a dependency relationship with `Vector2`.\n",
    "* the `Turtle` class has dependency relationships with the `Point2` class and the pen class that you created because every `Turtle` object has fields. In fact, the `Turtle` class has a stronger relationship to the `Point2` and pen classes (see the [Association, aggregation, and composition](./association.ipynb) notebook).\n",
    "\n",
    "The dependency relationship models the \"uses\" relationship between two classes. For example, the `Point2` and `Vector2` classes override the `toString` method which means that they must create and return a new `String` object; therefore, `Point2` and `Vector2` depend on `String`. A dependency relationship can be illustrated using the following diagram:\n",
    "\n",
    "![Dependency](../resources/images/association/dependency.png)\n",
    "\n"
   ]
  },
  {
   "cell_type": "markdown",
   "metadata": {},
   "source": [
    "The above diagram is an example of a UML (unified modelling language) class diagram. The classes are represented as boxes with the class name inside the box. A dashed line ending with an open arrow that connects two classes indicates a dependency relationship. A dependency relationship is a directed relationship; the direction that the arrow points indicates the direction of the dependency. The image above illustrates that `Point2` depends on `Vector2` and both `Point2` and `Vector2` depend on `String`.\n",
    "\n",
    "`Point2` depends on `Vector2` because there are methods in `Point2` that use `Vector2` objects; two examples include:\n",
    "\n",
    "* the method `add(Vector2 v)` adds a vector to a point\n",
    "* the method `to(Point2 q)` returns a vector starting from this point and pointing to `q`"
   ]
  },
  {
   "cell_type": "markdown",
   "metadata": {},
   "source": [
    "**Exercise 1** Study the API for the class `java.util.Date` [which can be found here.](https://docs.oracle.com/javase/8/docs/api/java/util/Date.html) Draw the UML class diagram showing the `Date` class and its dependencies.\n",
    "\n",
    "**Exercise 2** Study the API for the class `java.util.Objects` [which can be found here.](https://docs.oracle.com/javase/8/docs/api/java/util/Objects.html) Draw the UML class diagram showing the `Objects` class and its dependencies. The `Objects` class is a utility class that operates on `Object` instances.\n",
    "\n",
    "**Exercise 3** Study the API for the class `java.io.File` [which can be found here.](https://docs.oracle.com/javase/8/docs/api/java/io/File.html) Draw the UML class diagram showing the `File` class and *any five* of its dependencies (the class has many dependencies). The `File` class represents file and path names (not the actual files themselves).\n"
   ]
  },
  {
   "cell_type": "code",
   "execution_count": null,
   "metadata": {},
   "outputs": [],
   "source": []
  }
 ],
 "metadata": {
  "kernelspec": {
   "display_name": "Java",
   "language": "java",
   "name": "java"
  },
  "language_info": {
   "codemirror_mode": "text/x-java",
   "file_extension": ".java",
   "mimetype": "",
   "name": "Java",
   "nbconverter_exporter": "",
   "version": "1.8.0_121"
  },
  "toc": {
   "base_numbering": 1,
   "nav_menu": {},
   "number_sections": false,
   "sideBar": false,
   "skip_h1_title": false,
   "title_cell": "Table of Contents",
   "title_sidebar": "Contents",
   "toc_cell": false,
   "toc_position": {},
   "toc_section_display": false,
   "toc_window_display": false
  }
 },
 "nbformat": 4,
 "nbformat_minor": 4
}
